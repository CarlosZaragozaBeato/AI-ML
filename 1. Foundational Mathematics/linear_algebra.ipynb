{
 "cells": [
  {
   "cell_type": "markdown",
   "metadata": {},
   "source": [
    "# LINEAR ALGEBRA"
   ]
  },
  {
   "cell_type": "markdown",
   "metadata": {
    "vscode": {
     "languageId": "plaintext"
    }
   },
   "source": [
    "### Vectors \n",
    "\n",
    "In linear algebra, a vector is an array of numbers arranged in a specific order. Vectors can represent points in space, directions, or any quantity defined by magnitude and direction\n"
   ]
  },
  {
   "cell_type": "code",
   "execution_count": 1,
   "metadata": {},
   "outputs": [
    {
     "name": "stdout",
     "output_type": "stream",
     "text": [
      "Vector: [2 3 5]\n",
      "First element: 2\n",
      "Magnitude of the vector: 6.164414002968976\n"
     ]
    }
   ],
   "source": [
    "import numpy as np \n",
    "\n",
    "# Define a vector \n",
    "vector = np.array([2, 3, 5])\n",
    "print(f\"Vector: {vector}\")\n",
    "\n",
    "# Access elements \n",
    "first_element = vector[0]\n",
    "print(f\"First element: {first_element}\")\n",
    "\n",
    "# Vector Operatations\n",
    "vector_length = np.linalg.norm(vector)\n",
    "print(f\"Magnitude of the vector: {vector_length}\")"
   ]
  },
  {
   "cell_type": "markdown",
   "metadata": {},
   "source": [
    "### Matrices\n",
    "\n",
    "A matrix is a two-dimensional array of numbers arranged in rows and columns. Matrices are used to represent linear transformation and systems of linear equations."
   ]
  },
  {
   "cell_type": "code",
   "execution_count": 2,
   "metadata": {},
   "outputs": [
    {
     "name": "stdout",
     "output_type": "stream",
     "text": [
      "MATRIX: [[4 2 5]\n",
      " [8 6 5]\n",
      " [6 9 8]]\n",
      "Element of the matrix 5\n",
      "Transpose of the matrix [[4 8 6]\n",
      " [2 6 9]\n",
      " [5 5 8]]\n",
      "Determinant of the matrix: 123.99999999999991\n"
     ]
    }
   ],
   "source": [
    "# Define a matrix\n",
    "matrix = np.array([\n",
    "    [4,2,5],\n",
    "    [8,6,5],\n",
    "    [6,9,8]])\n",
    "print(f\"MATRIX: {matrix}\")\n",
    "\n",
    "# Access elements\n",
    "element = matrix[1, 2]\n",
    "print(f\"Element of the matrix {element}\")\n",
    "\n",
    "# Matrix operations\n",
    "transpose = matrix.T\n",
    "print(f\"Transpose of the matrix {transpose}\")\n",
    "\n",
    "determinant = np.linalg.det(matrix)\n",
    "print(f\"Determinant of the matrix: {determinant}\")"
   ]
  },
  {
   "cell_type": "markdown",
   "metadata": {},
   "source": [
    "### EigenValues and EigenVectors\n",
    "\n",
    "For a square a matrix A, an eigenvector is a non-zero vector v such that when A is multiplied by v, the result is a scalar of v. The scalar is know as the eigenvalue corresponding to that eigenvector."
   ]
  },
  {
   "cell_type": "code",
   "execution_count": 4,
   "metadata": {},
   "outputs": [
    {
     "name": "stdout",
     "output_type": "stream",
     "text": [
      "Eigenvalues: [5. 2.]\n",
      "Eigenvectors: [[ 0.89442719 -0.70710678]\n",
      " [ 0.4472136   0.70710678]]\n"
     ]
    }
   ],
   "source": [
    "A = np.array([[4,2],[1,3]])\n",
    "\n",
    "# Compute eigenvalues and eigenvectors\n",
    "eigenvalues, eigenvectors = np.linalg.eig(A)\n",
    "\n",
    "print(f\"Eigenvalues: {eigenvalues}\")\n",
    "print(f\"Eigenvectors: {eigenvectors}\")"
   ]
  },
  {
   "cell_type": "markdown",
   "metadata": {},
   "source": [
    "### Single Value Descomposition (SVD)\n",
    "\n",
    "\n",
    "SVD decomposes a matrix \\( A \\) into three matrices: \\( U \\), \\( \\Sigma \\), and \\( V^T \\), such that \\( A = U \\Sigma V^T \\). This decomposition is useful in various applications, including dimensionality reduction and noise reduction."
   ]
  },
  {
   "cell_type": "code",
   "execution_count": 5,
   "metadata": {},
   "outputs": [
    {
     "name": "stdout",
     "output_type": "stream",
     "text": [
      "U matrix: \n",
      "[[-0.2298477   0.88346102  0.40824829]\n",
      " [-0.52474482  0.24078249 -0.81649658]\n",
      " [-0.81964194 -0.40189603  0.40824829]]\n",
      "Singular Values: [9.52551809 0.51430058]\n",
      "V^T matrix\n",
      ":[[-0.61962948 -0.78489445]\n",
      " [-0.78489445  0.61962948]]\n"
     ]
    }
   ],
   "source": [
    "A = np.array([\n",
    "    [1, 2],\n",
    "    [3, 4],\n",
    "    [5, 6]\n",
    "])\n",
    "\n",
    "# Perform SVD \n",
    "U, S, VT = np.linalg.svd(A)\n",
    "\n",
    "print(f\"U matrix: \\n{U}\")\n",
    "print(f\"Singular Values: {S}\")\n",
    "print(f\"V^T matrix\\n:{VT}\")"
   ]
  },
  {
   "cell_type": "markdown",
   "metadata": {},
   "source": [
    "### 5 Linear Transformations \n",
    "\n",
    "A linear transformation is a mapping between vector spaces that preserves vector addition and scalar multiplication. Matrices can represent linear transformations."
   ]
  },
  {
   "cell_type": "code",
   "execution_count": 7,
   "metadata": {},
   "outputs": [
    {
     "name": "stdout",
     "output_type": "stream",
     "text": [
      "Transformed vector: [2 3]\n"
     ]
    }
   ],
   "source": [
    "# Define a matrix representing a linear transformation\n",
    "transformation_matrix = np.array([[2, 0], [0, 3]])\n",
    "\n",
    "# Define a vector\n",
    "vector = np.array([1, 1])\n",
    "\n",
    "# Apply the linear transformation\n",
    "transformed_vector = np.dot(transformation_matrix, vector)\n",
    "\n",
    "print(f\"Transformed vector: {transformed_vector}\")"
   ]
  },
  {
   "cell_type": "markdown",
   "metadata": {},
   "source": [
    "### Vector Space and Subspace\n",
    "\n",
    "A vector space is a collection of vector that can be added together and multiplied by scalar to produce another vector in the same space. A subspace is a subset of a vector space that is also a vector space under the same operations."
   ]
  },
  {
   "cell_type": "code",
   "execution_count": 9,
   "metadata": {},
   "outputs": [
    {
     "name": "stdout",
     "output_type": "stream",
     "text": [
      "Linear combination : [3 4 0]\n"
     ]
    }
   ],
   "source": [
    "# Define two vectors in R^3\n",
    "v1 = np.array([1, 0, 0])\n",
    "v2 = np.array([0, 1, 0])\n",
    "\n",
    "# Check if their linear combination is the same space\n",
    "linear_combination = 3 * v1 + 4 * v2\n",
    "\n",
    "print(f\"Linear combination : {linear_combination}\")\n"
   ]
  }
 ],
 "metadata": {
  "kernelspec": {
   "display_name": "base",
   "language": "python",
   "name": "python3"
  },
  "language_info": {
   "codemirror_mode": {
    "name": "ipython",
    "version": 3
   },
   "file_extension": ".py",
   "mimetype": "text/x-python",
   "name": "python",
   "nbconvert_exporter": "python",
   "pygments_lexer": "ipython3",
   "version": "3.12.2"
  }
 },
 "nbformat": 4,
 "nbformat_minor": 2
}
